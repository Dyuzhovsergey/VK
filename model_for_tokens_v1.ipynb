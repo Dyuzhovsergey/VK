{
 "cells": [
  {
   "cell_type": "code",
   "execution_count": 1,
   "metadata": {},
   "outputs": [
    {
     "name": "stderr",
     "output_type": "stream",
     "text": [
      "/home/user/.local/lib/python3.10/site-packages/tqdm/auto.py:22: TqdmWarning: IProgress not found. Please update jupyter and ipywidgets. See https://ipywidgets.readthedocs.io/en/stable/user_install.html\n",
      "  from .autonotebook import tqdm as notebook_tqdm\n"
     ]
    }
   ],
   "source": [
    "import torch\n",
    "import torch.utils.data\n",
    "import numpy as np\n",
    "from sklearn.model_selection import train_test_split\n",
    "from sklearn import preprocessing\n",
    "from sklearn import metrics\n",
    "import matplotlib.pyplot as plt"
   ]
  },
  {
   "cell_type": "code",
   "execution_count": 2,
   "metadata": {},
   "outputs": [],
   "source": [
    "y = torch.load('../data/target_tensor_f.pt')"
   ]
  },
  {
   "cell_type": "code",
   "execution_count": 3,
   "metadata": {},
   "outputs": [],
   "source": [
    "X = torch.load('../data/features_tensor_f.pt')"
   ]
  },
  {
   "cell_type": "code",
   "execution_count": 4,
   "metadata": {},
   "outputs": [],
   "source": [
    "device = torch.device('cuda')"
   ]
  },
  {
   "cell_type": "code",
   "execution_count": 5,
   "metadata": {},
   "outputs": [],
   "source": [
    "class Data(torch.utils.data.Dataset):\n",
    "    def __init__(self, x, y):\n",
    "        self.x = x\n",
    "        self.y = y\n",
    "        self.len = x.size(dim=0)\n",
    "\n",
    "    def __getitem__(self, index):\n",
    "        return self.x[index], self.y[index]\n",
    "\n",
    "    def __len__(self):\n",
    "        return self.len\n",
    "\n",
    "dataset = Data(X[:, 2:], y)\n",
    "train_size = int(0.8 * len(dataset))\n",
    "valid_size = len(dataset) - train_size\n",
    "train_set, valid_set = torch.utils.data.random_split(dataset, [train_size, valid_size])"
   ]
  },
  {
   "cell_type": "code",
   "execution_count": 39,
   "metadata": {},
   "outputs": [],
   "source": [
    "torch.manual_seed(41)\n",
    "\n",
    "n_inputs = X.size(dim=1) - 2\n",
    "\n",
    "model = torch.nn.Sequential(\n",
    "    torch.nn.BatchNorm1d(n_inputs, affine=False),\n",
    "    torch.nn.Linear(n_inputs, 500),\n",
    "    torch.nn.ReLU(),\n",
    "    torch.nn.BatchNorm1d(500),\n",
    "    #torch.nn.Dropout1d(p=0.1),\n",
    "    torch.nn.Linear(500, 200),\n",
    "    torch.nn.ReLU(),\n",
    "    torch.nn.BatchNorm1d(200),\n",
    "    #torch.nn.Dropout1d(p=0.1),\n",
    "    torch.nn.Linear(200, 50),\n",
    "    torch.nn.ReLU(),\n",
    "    torch.nn.BatchNorm1d(50),\n",
    "    torch.nn.Linear(50, 1)\n",
    ")\n",
    "\n",
    "model = model.to(device)"
   ]
  },
  {
   "cell_type": "code",
   "execution_count": 43,
   "metadata": {},
   "outputs": [],
   "source": [
    "def initialize_weights(layer):\n",
    "  if isinstance(layer, torch.nn.Linear):\n",
    "    layer.weight.data.uniform_(0.0, 0.2)\n",
    "    layer.bias.data.fill_(0.1)\n",
    "\n",
    "model.apply(initialize_weights)\n",
    "epoch_number = 0\n",
    "best_valid_score = (0, 0)\n",
    "train_scores = []\n",
    "valid_scores = []"
   ]
  },
  {
   "cell_type": "code",
   "execution_count": 47,
   "metadata": {},
   "outputs": [
    {
     "name": "stdout",
     "output_type": "stream",
     "text": [
      "Epoch  12 . The worst loss value:  0.552363932132721 , the best loss value:  0.49098336696624756\n",
      "Train score: 0.6412740035644141, validation score: 0.5652027251357585\n",
      "Best valid score: 0.5693695490611914, best epoch: 11\n"
     ]
    },
    {
     "data": {
      "image/png": "[encoded data removed]",
      "text/plain": [
       "<Figure size 640x480 with 1 Axes>"
      ]
     },
     "metadata": {},
     "output_type": "display_data"
    }
   ],
   "source": [
    "loss = torch.nn.BCEWithLogitsLoss()\n",
    "optimizer = torch.optim.Adam(model.parameters(), lr = 1.0e-2)\n",
    "\n",
    "train_loader = torch.utils.data.DataLoader(dataset=train_set, batch_size=10000)\n",
    "\n",
    "for _ in range(1):\n",
    "    model.train()\n",
    "    worst_loss_value = 0\n",
    "    best_loss_value = 5000 \n",
    "    scores = []\n",
    "    for X_train_batch, y_train_batch in train_loader:\n",
    "        optimizer.zero_grad()\n",
    "        X_train_batch = X_train_batch.to(device)\n",
    "        y_train_batch = y_train_batch.to(device)\n",
    "        y_train_batch_pred = model.forward(X_train_batch)\n",
    "\n",
    "        loss_value = loss(y_train_batch_pred, y_train_batch)\n",
    "        if loss_value.item() > worst_loss_value:\n",
    "            worst_loss_value = loss_value.item()\n",
    "        if loss_value.item() < best_loss_value:\n",
    "            best_loss_value = loss_value.item()\n",
    "\n",
    "        loss_value.backward()\n",
    "        optimizer.step()\n",
    "\n",
    "        scores.append(metrics.roc_auc_score(y_train_batch.cpu().detach(), y_train_batch_pred.round().cpu().detach())) \n",
    "\n",
    "    epoch_number += 1\n",
    "    print(\"Epoch \", epoch_number, \". The worst loss value: \", worst_loss_value, \", the best loss value: \", best_loss_value)\n",
    "    train_mean_score = sum(scores) / len(scores)\n",
    "    train_scores.append(train_mean_score)\n",
    "\n",
    "    model.eval()\n",
    "    valid_loader = torch.utils.data.DataLoader(dataset=valid_set, batch_size=30000)\n",
    "    scores = []\n",
    "    with torch.no_grad():\n",
    "        for X_valid_batch, y_valid_batch in valid_loader:\n",
    "            X_valid_batch = X_valid_batch.to(device)\n",
    "            y_valid_batch = y_valid_batch.to(device)\n",
    "            y_valid_batch_pred = model.forward(X_valid_batch)\n",
    "            scores.append(metrics.roc_auc_score(y_valid_batch.cpu(), y_valid_batch_pred.round().cpu()))\n",
    "\n",
    "    valid_mean_score = sum(scores) / len(scores)\n",
    "    valid_scores.append(valid_mean_score)\n",
    "    print(f\"Train score: {train_mean_score}, validation score: {valid_mean_score}\")\n",
    "    if valid_mean_score > best_valid_score[0]:\n",
    "        best_valid_score = (valid_mean_score, epoch_number) \n",
    "    print(f\"Best valid score: {best_valid_score[0]}, best epoch: {best_valid_score[1]}\")\n",
    "\n",
    "plt.plot(train_scores, '-r', label='Train')\n",
    "plt.plot(valid_scores, '-b', label='Validation')\n",
    "plt.xlabel('epoch')\n",
    "plt.show()\n",
    "\n",
    "    "
   ]
  }
 ],
 "metadata": {
  "kernelspec": {
   "display_name": "Python 3.10.6 ('venv')",
   "language": "python",
   "name": "python3"
  },
  "language_info": {
   "codemirror_mode": {
    "name": "ipython",
    "version": 3
   },
   "file_extension": ".py",
   "mimetype": "text/x-python",
   "name": "python",
   "nbconvert_exporter": "python",
   "pygments_lexer": "ipython3",
   "version": "3.10.6"
  },
  "orig_nbformat": 4,
  "vscode": {
   "interpreter": {
    "hash": "b369af22ab1e8acbe9e1b36f6a36573e6c76df0f16966b2e7ac1f0d8fa2f44ce"
   }
  }
 },
 "nbformat": 4,
 "nbformat_minor": 2
}

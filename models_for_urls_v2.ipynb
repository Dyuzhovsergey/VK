{
  "cells": [
    {
      "cell_type": "code",
      "execution_count": null,
      "metadata": {
        "id": "qM8FZtOV5uZz"
      },
      "outputs": [],
      "source": [
        "import numpy as np\n",
        "import math\n",
        "import pandas as pd\n",
        "from sklearn.model_selection import train_test_split\n",
        "from sklearn import preprocessing\n",
        "from sklearn import metrics\n",
        "import matplotlib.pyplot as plt\n",
        "\n",
        "from catboost import CatBoostClassifier\n",
        "\n",
        "import os\n",
        "import pickle"
      ]
    },
    {
      "cell_type": "code",
      "execution_count": 2,
      "metadata": {
        "id": "WHTx5V50CGpY"
      },
      "outputs": [],
      "source": [
        "raw_data = pd.read_csv('/content/drive/MyDrive/hacks-ai/spb/data/processed_train.csv')"
      ]
    },
    {
      "cell_type": "code",
      "execution_count": 39,
      "metadata": {
        "id": "Jh9kYCWCYxeH"
      },
      "outputs": [],
      "source": [
        "X = raw_data"
      ]
    },
    {
      "cell_type": "code",
      "execution_count": 3,
      "metadata": {
        "id": "Q_C--jDzYlTI"
      },
      "outputs": [],
      "source": [
        "y = np.load('/content/drive/MyDrive/hacks-ai/spb/data/target.npy')"
      ]
    },
    {
      "cell_type": "code",
      "execution_count": 5,
      "metadata": {
        "id": "Q_pmAEmcJaq8"
      },
      "outputs": [],
      "source": [
        "X_train, X_valid, y_train, y_valid = train_test_split(X, y, test_size=0.3, shuffle=True, random_state=42)"
      ]
    },
    {
      "cell_type": "code",
      "execution_count": 6,
      "metadata": {
        "id": "Fdoi35Ia1G5C"
      },
      "outputs": [],
      "source": [
        "model = CatBoostClassifier(task_type='GPU')"
      ]
    },
    {
      "cell_type": "code",
      "execution_count": 7,
      "metadata": {
        "colab": {
          "base_uri": "https://localhost:8080/"
        },
        "id": "VG4VsydY2FCp",
        "outputId": "8188d31e-72af-443e-e4c1-d1af17a951f5"
      },
      "outputs": [
        {
          "data": {
            "text/plain": [
              "<catboost.core.CatBoostClassifier at 0x7feaf778d190>"
            ]
          },
          "execution_count": 7,
          "metadata": {},
          "output_type": "execute_result"
        }
      ],
      "source": [
        "model.fit(X_train, y_train, eval_set=(X_valid, y_valid), silent=True)\n"
      ]
    },
    {
      "cell_type": "code",
      "execution_count": 8,
      "metadata": {
        "colab": {
          "base_uri": "https://localhost:8080/",
          "height": 729
        },
        "id": "Wxe3gAn1lWUq",
        "outputId": "cb48fdbf-1223-4f60-f7f0-a9288819be72"
      },
      "outputs": [
        {
          "data": {
            "image/png": "[encoded data removed]",
            "text/plain": [
              "<Figure size 1440x720 with 1 Axes>"
            ]
          },
          "metadata": {
            "needs_background": "light"
          },
          "output_type": "display_data"
        }
      ],
      "source": [
        "features_importances = pd.Series(model.get_feature_importance(), index=X.columns)\n",
        "\n",
        "fig, ax = plt.subplots(figsize=(20, 10))\n",
        "features_importances.plot.bar(ax=ax)\n",
        "ax.set_ylabel(\"Importance\")\n",
        "fig.tight_layout()"
      ]
    },
    {
      "cell_type": "code",
      "execution_count": null,
      "metadata": {
        "id": "IB-c1Azbm-1R"
      },
      "outputs": [],
      "source": [
        "dropped_cols = X.columns[np.where(features_importances < 1.5)]\n",
        "print(dropped_cols.values)"
      ]
    },
    {
      "cell_type": "code",
      "execution_count": 41,
      "metadata": {
        "id": "2Nh2cpRuobXZ"
      },
      "outputs": [],
      "source": [
        "X = X.drop(columns=dropped_cols)\n",
        "X = X.drop(columns=['CLIENT_ID'])\n",
        "X = X.drop(columns=['RETRO_DT'])"
      ]
    },
    {
      "cell_type": "code",
      "execution_count": 44,
      "metadata": {
        "id": "sBLBTN8QqPMD"
      },
      "outputs": [],
      "source": [
        "for col in X.columns.values:\n",
        "    scaler = preprocessing.StandardScaler()\n",
        "    X[col] = scaler.fit_transform(X[col].values.reshape(-1, 1))[:, 0]"
      ]
    },
    {
      "cell_type": "code",
      "execution_count": 45,
      "metadata": {
        "colab": {
          "base_uri": "https://localhost:8080/",
          "height": 300
        },
        "id": "C4qTRZEBCP81",
        "outputId": "714171a3-8dbd-4bea-827d-2e240dc9f571"
      },
      "outputs": [
        {
          "data": {
            "text/html": [
              "\n",
              "  <div id=\"df-5316bd96-2fc3-483c-975d-522cdc530df5\">\n",
              "    <div class=\"colab-df-container\">\n",
              "      <div>\n",
              "<style scoped>\n",
              "    .dataframe tbody tr th:only-of-type {\n",
              "        vertical-align: middle;\n",
              "    }\n",
              "\n",
              "    .dataframe tbody tr th {\n",
              "        vertical-align: top;\n",
              "    }\n",
              "\n",
              "    .dataframe thead th {\n",
              "        text-align: right;\n",
              "    }\n",
              "</style>\n",
              "<table border=\"1\" class=\"dataframe\">\n",
              "  <thead>\n",
              "    <tr style=\"text-align: right;\">\n",
              "      <th></th>\n",
              "      <th>url_cat_2</th>\n",
              "      <th>url_cat_9</th>\n",
              "      <th>url_cat_18</th>\n",
              "      <th>url_cat_68</th>\n",
              "      <th>url_cat_69</th>\n",
              "      <th>url_cat_76</th>\n",
              "      <th>url_cat_77</th>\n",
              "      <th>url_cat_78</th>\n",
              "      <th>url_cat_88</th>\n",
              "      <th>url_cat_90</th>\n",
              "      <th>url_cat_99</th>\n",
              "    </tr>\n",
              "  </thead>\n",
              "  <tbody>\n",
              "    <tr>\n",
              "      <th>count</th>\n",
              "      <td>3.037770e+05</td>\n",
              "      <td>3.037770e+05</td>\n",
              "      <td>3.037770e+05</td>\n",
              "      <td>3.037770e+05</td>\n",
              "      <td>3.037770e+05</td>\n",
              "      <td>3.037770e+05</td>\n",
              "      <td>3.037770e+05</td>\n",
              "      <td>3.037770e+05</td>\n",
              "      <td>3.037770e+05</td>\n",
              "      <td>3.037770e+05</td>\n",
              "      <td>3.037770e+05</td>\n",
              "    </tr>\n",
              "    <tr>\n",
              "      <th>mean</th>\n",
              "      <td>6.543429e-18</td>\n",
              "      <td>-8.455584e-18</td>\n",
              "      <td>-2.045479e-17</td>\n",
              "      <td>-1.929698e-19</td>\n",
              "      <td>-6.882588e-18</td>\n",
              "      <td>-1.548436e-17</td>\n",
              "      <td>1.155480e-17</td>\n",
              "      <td>4.830092e-18</td>\n",
              "      <td>2.391656e-18</td>\n",
              "      <td>3.762910e-18</td>\n",
              "      <td>-3.508541e-18</td>\n",
              "    </tr>\n",
              "    <tr>\n",
              "      <th>std</th>\n",
              "      <td>1.000002e+00</td>\n",
              "      <td>1.000002e+00</td>\n",
              "      <td>1.000002e+00</td>\n",
              "      <td>1.000002e+00</td>\n",
              "      <td>1.000002e+00</td>\n",
              "      <td>1.000002e+00</td>\n",
              "      <td>1.000002e+00</td>\n",
              "      <td>1.000002e+00</td>\n",
              "      <td>1.000002e+00</td>\n",
              "      <td>1.000002e+00</td>\n",
              "      <td>1.000002e+00</td>\n",
              "    </tr>\n",
              "    <tr>\n",
              "      <th>min</th>\n",
              "      <td>-1.608439e-01</td>\n",
              "      <td>-1.452110e-01</td>\n",
              "      <td>-1.343164e-01</td>\n",
              "      <td>-2.132769e-01</td>\n",
              "      <td>-2.849137e-01</td>\n",
              "      <td>-2.118246e-01</td>\n",
              "      <td>-3.577659e-01</td>\n",
              "      <td>-1.236673e-01</td>\n",
              "      <td>-1.283307e-01</td>\n",
              "      <td>-1.382583e-01</td>\n",
              "      <td>-2.505333e-01</td>\n",
              "    </tr>\n",
              "    <tr>\n",
              "      <th>25%</th>\n",
              "      <td>-1.608439e-01</td>\n",
              "      <td>-1.452110e-01</td>\n",
              "      <td>-1.343164e-01</td>\n",
              "      <td>-2.132769e-01</td>\n",
              "      <td>-2.849137e-01</td>\n",
              "      <td>-2.118246e-01</td>\n",
              "      <td>-3.577659e-01</td>\n",
              "      <td>-1.236673e-01</td>\n",
              "      <td>-1.283307e-01</td>\n",
              "      <td>-1.382583e-01</td>\n",
              "      <td>-1.793162e-01</td>\n",
              "    </tr>\n",
              "    <tr>\n",
              "      <th>50%</th>\n",
              "      <td>-1.608439e-01</td>\n",
              "      <td>-1.452110e-01</td>\n",
              "      <td>-1.343164e-01</td>\n",
              "      <td>-1.920933e-01</td>\n",
              "      <td>-1.879036e-01</td>\n",
              "      <td>-7.156381e-02</td>\n",
              "      <td>-3.421768e-01</td>\n",
              "      <td>-1.236673e-01</td>\n",
              "      <td>-1.283307e-01</td>\n",
              "      <td>-1.026937e-01</td>\n",
              "      <td>-1.793162e-01</td>\n",
              "    </tr>\n",
              "    <tr>\n",
              "      <th>75%</th>\n",
              "      <td>-1.608439e-01</td>\n",
              "      <td>8.980981e-02</td>\n",
              "      <td>-2.949399e-02</td>\n",
              "      <td>-1.497259e-01</td>\n",
              "      <td>-9.089340e-02</td>\n",
              "      <td>6.869697e-02</td>\n",
              "      <td>-1.239293e-01</td>\n",
              "      <td>3.302756e-02</td>\n",
              "      <td>-6.723715e-03</td>\n",
              "      <td>-6.712909e-02</td>\n",
              "      <td>-1.080990e-01</td>\n",
              "    </tr>\n",
              "    <tr>\n",
              "      <th>max</th>\n",
              "      <td>1.775173e+02</td>\n",
              "      <td>2.804696e+02</td>\n",
              "      <td>1.586717e+02</td>\n",
              "      <td>7.039192e+01</td>\n",
              "      <td>1.132170e+02</td>\n",
              "      <td>2.825539e+02</td>\n",
              "      <td>5.395470e+01</td>\n",
              "      <td>3.961575e+02</td>\n",
              "      <td>1.207490e+02</td>\n",
              "      <td>1.103965e+02</td>\n",
              "      <td>9.945344e+01</td>\n",
              "    </tr>\n",
              "  </tbody>\n",
              "</table>\n",
              "</div>\n",
              "      <button class=\"colab-df-convert\" onclick=\"convertToInteractive('df-5316bd96-2fc3-483c-975d-522cdc530df5')\"\n",
              "              title=\"Convert this dataframe to an interactive table.\"\n",
              "              style=\"display:none;\">\n",
              "        \n",
              "  <svg xmlns=\"http://www.w3.org/2000/svg\" height=\"24px\"viewBox=\"0 0 24 24\"\n",
              "       width=\"24px\">\n",
              "    <path d=\"M0 0h24v24H0V0z\" fill=\"none\"/>\n",
              "    <path d=\"M18.56 5.44l.94 2.06.94-2.06 2.06-.94-2.06-.94-.94-2.06-.94 2.06-2.06.94zm-11 1L8.5 8.5l.94-2.06 2.06-.94-2.06-.94L8.5 2.5l-.94 2.06-2.06.94zm10 10l.94 2.06.94-2.06 2.06-.94-2.06-.94-.94-2.06-.94 2.06-2.06.94z\"/><path d=\"M17.41 7.96l-1.37-1.37c-.4-.4-.92-.59-1.43-.59-.52 0-1.04.2-1.43.59L10.3 9.45l-7.72 7.72c-.78.78-.78 2.05 0 2.83L4 21.41c.39.39.9.59 1.41.59.51 0 1.02-.2 1.41-.59l7.78-7.78 2.81-2.81c.8-.78.8-2.07 0-2.86zM5.41 20L4 18.59l7.72-7.72 1.47 1.35L5.41 20z\"/>\n",
              "  </svg>\n",
              "      </button>\n",
              "      \n",
              "  <style>\n",
              "    .colab-df-container {\n",
              "      display:flex;\n",
              "      flex-wrap:wrap;\n",
              "      gap: 12px;\n",
              "    }\n",
              "\n",
              "    .colab-df-convert {\n",
              "      background-color: #E8F0FE;\n",
              "      border: none;\n",
              "      border-radius: 50%;\n",
              "      cursor: pointer;\n",
              "      display: none;\n",
              "      fill: #1967D2;\n",
              "      height: 32px;\n",
              "      padding: 0 0 0 0;\n",
              "      width: 32px;\n",
              "    }\n",
              "\n",
              "    .colab-df-convert:hover {\n",
              "      background-color: #E2EBFA;\n",
              "      box-shadow: 0px 1px 2px rgba(60, 64, 67, 0.3), 0px 1px 3px 1px rgba(60, 64, 67, 0.15);\n",
              "      fill: #174EA6;\n",
              "    }\n",
              "\n",
              "    [theme=dark] .colab-df-convert {\n",
              "      background-color: #3B4455;\n",
              "      fill: #D2E3FC;\n",
              "    }\n",
              "\n",
              "    [theme=dark] .colab-df-convert:hover {\n",
              "      background-color: #434B5C;\n",
              "      box-shadow: 0px 1px 3px 1px rgba(0, 0, 0, 0.15);\n",
              "      filter: drop-shadow(0px 1px 2px rgba(0, 0, 0, 0.3));\n",
              "      fill: #FFFFFF;\n",
              "    }\n",
              "  </style>\n",
              "\n",
              "      <script>\n",
              "        const buttonEl =\n",
              "          document.querySelector('#df-5316bd96-2fc3-483c-975d-522cdc530df5 button.colab-df-convert');\n",
              "        buttonEl.style.display =\n",
              "          google.colab.kernel.accessAllowed ? 'block' : 'none';\n",
              "\n",
              "        async function convertToInteractive(key) {\n",
              "          const element = document.querySelector('#df-5316bd96-2fc3-483c-975d-522cdc530df5');\n",
              "          const dataTable =\n",
              "            await google.colab.kernel.invokeFunction('convertToInteractive',\n",
              "                                                     [key], {});\n",
              "          if (!dataTable) return;\n",
              "\n",
              "          const docLinkHtml = 'Like what you see? Visit the ' +\n",
              "            '<a target=\"_blank\" href=https://colab.research.google.com/notebooks/data_table.ipynb>data table notebook</a>'\n",
              "            + ' to learn more about interactive tables.';\n",
              "          element.innerHTML = '';\n",
              "          dataTable['output_type'] = 'display_data';\n",
              "          await google.colab.output.renderOutput(dataTable, element);\n",
              "          const docLink = document.createElement('div');\n",
              "          docLink.innerHTML = docLinkHtml;\n",
              "          element.appendChild(docLink);\n",
              "        }\n",
              "      </script>\n",
              "    </div>\n",
              "  </div>\n",
              "  "
            ],
            "text/plain": [
              "          url_cat_2     url_cat_9    url_cat_18    url_cat_68    url_cat_69  \\\n",
              "count  3.037770e+05  3.037770e+05  3.037770e+05  3.037770e+05  3.037770e+05   \n",
              "mean   6.543429e-18 -8.455584e-18 -2.045479e-17 -1.929698e-19 -6.882588e-18   \n",
              "std    1.000002e+00  1.000002e+00  1.000002e+00  1.000002e+00  1.000002e+00   \n",
              "min   -1.608439e-01 -1.452110e-01 -1.343164e-01 -2.132769e-01 -2.849137e-01   \n",
              "25%   -1.608439e-01 -1.452110e-01 -1.343164e-01 -2.132769e-01 -2.849137e-01   \n",
              "50%   -1.608439e-01 -1.452110e-01 -1.343164e-01 -1.920933e-01 -1.879036e-01   \n",
              "75%   -1.608439e-01  8.980981e-02 -2.949399e-02 -1.497259e-01 -9.089340e-02   \n",
              "max    1.775173e+02  2.804696e+02  1.586717e+02  7.039192e+01  1.132170e+02   \n",
              "\n",
              "         url_cat_76    url_cat_77    url_cat_78    url_cat_88    url_cat_90  \\\n",
              "count  3.037770e+05  3.037770e+05  3.037770e+05  3.037770e+05  3.037770e+05   \n",
              "mean  -1.548436e-17  1.155480e-17  4.830092e-18  2.391656e-18  3.762910e-18   \n",
              "std    1.000002e+00  1.000002e+00  1.000002e+00  1.000002e+00  1.000002e+00   \n",
              "min   -2.118246e-01 -3.577659e-01 -1.236673e-01 -1.283307e-01 -1.382583e-01   \n",
              "25%   -2.118246e-01 -3.577659e-01 -1.236673e-01 -1.283307e-01 -1.382583e-01   \n",
              "50%   -7.156381e-02 -3.421768e-01 -1.236673e-01 -1.283307e-01 -1.026937e-01   \n",
              "75%    6.869697e-02 -1.239293e-01  3.302756e-02 -6.723715e-03 -6.712909e-02   \n",
              "max    2.825539e+02  5.395470e+01  3.961575e+02  1.207490e+02  1.103965e+02   \n",
              "\n",
              "         url_cat_99  \n",
              "count  3.037770e+05  \n",
              "mean  -3.508541e-18  \n",
              "std    1.000002e+00  \n",
              "min   -2.505333e-01  \n",
              "25%   -1.793162e-01  \n",
              "50%   -1.793162e-01  \n",
              "75%   -1.080990e-01  \n",
              "max    9.945344e+01  "
            ]
          },
          "execution_count": 45,
          "metadata": {},
          "output_type": "execute_result"
        }
      ],
      "source": [
        "X.describe()"
      ]
    },
    {
      "cell_type": "code",
      "execution_count": null,
      "metadata": {
        "id": "BXR2EKqBrCp6"
      },
      "outputs": [],
      "source": [
        "X_train, X_valid, y_train, y_valid = train_test_split(X, y, test_size=0.3, shuffle=True, random_state=42)\n",
        "\n",
        "model = CatBoostClassifier(task_type='GPU', iterations=10000, learning_rate=0.1, early_stopping_rounds=1000, l2_leaf_reg=1, depth=1)\n",
        "model.fit(X_train, y_train, eval_set=(X_valid, y_valid))\n"
      ]
    },
    {
      "cell_type": "code",
      "execution_count": 59,
      "metadata": {
        "colab": {
          "base_uri": "https://localhost:8080/"
        },
        "id": "q010a_tTnuw-",
        "outputId": "2a559cbc-c5da-4fc6-baa4-72a91ec8f82f"
      },
      "outputs": [
        {
          "name": "stdout",
          "output_type": "stream",
          "text": [
            "Train score: 0.5000548200880963, validation score 0.5.\n"
          ]
        }
      ],
      "source": [
        "y_pred_train = model.predict(X_train)\n",
        "y_pred_valid = model.predict(X_valid)\n",
        "\n",
        "print(f\"Train score: {metrics.roc_auc_score(y_train, y_pred_train)}, validation score {metrics.roc_auc_score(y_valid, y_pred_valid)}.\")"
      ]
    }
  ],
  "metadata": {
    "accelerator": "GPU",
    "colab": {
      "collapsed_sections": [],
      "name": "classifier_spb.ipynb",
      "provenance": []
    },
    "gpuClass": "standard",
    "kernelspec": {
      "display_name": "Python 3.10.6 ('venv')",
      "language": "python",
      "name": "python3"
    },
    "language_info": {
      "name": "python",
      "version": "3.10.6"
    },
    "vscode": {
      "interpreter": {
        "hash": "b369af22ab1e8acbe9e1b36f6a36573e6c76df0f16966b2e7ac1f0d8fa2f44ce"
      }
    }
  },
  "nbformat": 4,
  "nbformat_minor": 0
}

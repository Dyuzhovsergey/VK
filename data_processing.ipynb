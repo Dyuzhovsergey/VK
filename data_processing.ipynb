{
 "cells": [
  {
   "cell_type": "code",
   "execution_count": 1,
   "metadata": {},
   "outputs": [
    {
     "name": "stderr",
     "output_type": "stream",
     "text": [
      "/home/user/.local/lib/python3.10/site-packages/tqdm/auto.py:22: TqdmWarning: IProgress not found. Please update jupyter and ipywidgets. See https://ipywidgets.readthedocs.io/en/stable/user_install.html\n",
      "  from .autonotebook import tqdm as notebook_tqdm\n"
     ]
    }
   ],
   "source": [
    "import os\n",
    "import pandas as pd\n",
    "import re\n",
    "import numpy as np\n",
    "from transliterate import translit\n",
    "from nltk.stem.snowball import SnowballStemmer\n",
    "import json\n",
    "import torch"
   ]
  },
  {
   "cell_type": "code",
   "execution_count": 2,
   "metadata": {},
   "outputs": [],
   "source": [
    "data = pd.read_table('../data/train')"
   ]
  },
  {
   "cell_type": "code",
   "execution_count": 3,
   "metadata": {},
   "outputs": [
    {
     "data": {
      "text/html": [
       "<div>\n",
       "<style scoped>\n",
       "    .dataframe tbody tr th:only-of-type {\n",
       "        vertical-align: middle;\n",
       "    }\n",
       "\n",
       "    .dataframe tbody tr th {\n",
       "        vertical-align: top;\n",
       "    }\n",
       "\n",
       "    .dataframe thead th {\n",
       "        text-align: right;\n",
       "    }\n",
       "</style>\n",
       "<table border=\"1\" class=\"dataframe\">\n",
       "  <thead>\n",
       "    <tr style=\"text-align: right;\">\n",
       "      <th></th>\n",
       "      <th>CLIENT_ID</th>\n",
       "      <th>RETRO_DT</th>\n",
       "      <th>tokens</th>\n",
       "      <th>DEF</th>\n",
       "      <th>urls_hashed</th>\n",
       "    </tr>\n",
       "  </thead>\n",
       "  <tbody>\n",
       "    <tr>\n",
       "      <th>0</th>\n",
       "      <td>5909886</td>\n",
       "      <td>20200911</td>\n",
       "      <td>форм 1 мачеха 1 работы 1 пасынка 1 горячую 1 м...</td>\n",
       "      <td>0</td>\n",
       "      <td>7bbcc146c0ba4df814701ff7297b2205 1 ee0d49cbc99...</td>\n",
       "    </tr>\n",
       "    <tr>\n",
       "      <th>1</th>\n",
       "      <td>1385448</td>\n",
       "      <td>20210519</td>\n",
       "      <td>platiza 1 мобильные 2 sergej 1 code 3 отказов ...</td>\n",
       "      <td>1</td>\n",
       "      <td>1889e0cbd3e343e9521a07aa312257ac 2 8253d8d3a67...</td>\n",
       "    </tr>\n",
       "  </tbody>\n",
       "</table>\n",
       "</div>"
      ],
      "text/plain": [
       "   CLIENT_ID  RETRO_DT                                             tokens  \\\n",
       "0    5909886  20200911  форм 1 мачеха 1 работы 1 пасынка 1 горячую 1 м...   \n",
       "1    1385448  20210519  platiza 1 мобильные 2 sergej 1 code 3 отказов ...   \n",
       "\n",
       "   DEF                                        urls_hashed  \n",
       "0    0  7bbcc146c0ba4df814701ff7297b2205 1 ee0d49cbc99...  \n",
       "1    1  1889e0cbd3e343e9521a07aa312257ac 2 8253d8d3a67...  "
      ]
     },
     "execution_count": 3,
     "metadata": {},
     "output_type": "execute_result"
    }
   ],
   "source": [
    "data[0:2]"
   ]
  },
  {
   "cell_type": "code",
   "execution_count": 4,
   "metadata": {},
   "outputs": [],
   "source": [
    "data['tokens'] = data['tokens'].fillna('')"
   ]
  },
  {
   "cell_type": "code",
   "execution_count": null,
   "metadata": {},
   "outputs": [],
   "source": [
    "latin_re = re.compile('.*[a-zA-Z]+.*')\n",
    "stemmer = SnowballStemmer('russian')\n",
    "tokens_users_count = {}\n",
    "users_tokens = []\n",
    "\n",
    "for col in range(len(data['tokens'])):\n",
    "    users_tokens.append({})\n",
    "    values = data['tokens'][col].split(' ')\n",
    "    if len(values) > 1:\n",
    "        for i in range(0, len(values), 2):\n",
    "            value = values[i].lower()\n",
    "            if latin_re.match(values[i]):\n",
    "                value = translit(value, 'ru')\n",
    "\n",
    "            value = stemmer.stem(value) \n",
    "\n",
    "            if value in tokens_users_count:\n",
    "                tokens_users_count[value] += 1\n",
    "            else:\n",
    "                tokens_users_count[value] = 1\n",
    "\n",
    "            users_tokens[-1][value] = values[i + 1]\n",
    "    \n",
    "    if col % 10000 == 0:\n",
    "        print(\"Processed \", col)\n",
    "\n",
    "print(len(tokens_users_count))\n",
    "\n",
    "with open('../data/tokens_users_counts.json', 'w') as f:\n",
    "    json.dump(tokens_users_count, f)\n",
    "\n",
    "with open('../data/users_tokens.json', 'w') as f:\n",
    "    json.dump(users_tokens, f)"
   ]
  },
  {
   "cell_type": "code",
   "execution_count": 2,
   "metadata": {},
   "outputs": [],
   "source": [
    "with open('../data/tokens_users_counts.json', 'r') as f:\n",
    "    tokens_users_count = json.load(f)"
   ]
  },
  {
   "cell_type": "code",
   "execution_count": 3,
   "metadata": {},
   "outputs": [],
   "source": [
    "with open('../data/users_tokens.json', 'r') as f:\n",
    "    users_tokens = json.load(f)"
   ]
  },
  {
   "cell_type": "code",
   "execution_count": 7,
   "metadata": {},
   "outputs": [
    {
     "name": "stdout",
     "output_type": "stream",
     "text": [
      "2773\n"
     ]
    }
   ],
   "source": [
    "popular_tokens = []\n",
    "for value in tokens_users_count:\n",
    "    if tokens_users_count[value] > 15000:\n",
    "        popular_tokens.append(value)\n",
    "\n",
    "print(len(popular_tokens))"
   ]
  },
  {
   "cell_type": "code",
   "execution_count": null,
   "metadata": {},
   "outputs": [],
   "source": [
    "tokens_features = np.zeros((len(users_tokens), len(popular_tokens)))\n",
    "row_index = 0\n",
    "for user_tokens in users_tokens:\n",
    "    for col_index, popular_token in enumerate(popular_tokens):\n",
    "        if popular_token in user_tokens:\n",
    "            tokens_features[row_index, col_index] = user_tokens[popular_token]\n",
    "    row_index += 1\n",
    "    if row_index % 10000 == 0:\n",
    "        print(f'Processed {row_index} rows')\n",
    "\n",
    "\n",
    "with open('../data/tokens_features.npy', 'wb') as f:\n",
    "    np.save(f, tokens_features)"
   ]
  },
  {
   "cell_type": "code",
   "execution_count": 6,
   "metadata": {},
   "outputs": [],
   "source": [
    "data['RETRO_DT'] = data['RETRO_DT'].apply(pd.to_datetime).astype(np.int64)\n",
    "\n",
    "clientid_retrodt_features = data[['CLIENT_ID', 'RETRO_DT']].values\n",
    "\n",
    "with open('../data/clientid_retrodt_features.npy', 'wb') as f:\n",
    "    np.save(f, clientid_retrodt_features)"
   ]
  },
  {
   "cell_type": "code",
   "execution_count": 6,
   "metadata": {},
   "outputs": [],
   "source": [
    "with open('../data/clientid_retrodt_features.npy', 'rb') as f:\n",
    "    clientid_retrodt_features = np.load(f)\n",
    "\n",
    "clientid_retrodt_tensor = torch.tensor(clientid_retrodt_features)\n",
    "\n",
    "with open('../data/tokens_features.npy', 'rb') as f:\n",
    "    tokens_features = np.load(f)\n",
    "\n",
    "tokens_tensor = torch.tensor(tokens_features)\n",
    "\n",
    "features_tensor = torch.cat([clientid_retrodt_tensor, tokens_tensor], dim=1)\n",
    "\n",
    "print(clientid_retrodt_tensor.shape, tokens_tensor.shape, features_tensor.shape)"
   ]
  },
  {
   "cell_type": "code",
   "execution_count": 12,
   "metadata": {},
   "outputs": [],
   "source": [
    "torch.save(features_tensor, '../data/features_tensor.pt')"
   ]
  },
  {
   "cell_type": "code",
   "execution_count": 3,
   "metadata": {},
   "outputs": [],
   "source": [
    "target = data['DEF'].values\n",
    "target.shape = (-1, 1)\n",
    "\n",
    "target_tensor = torch.tensor(target)\n",
    "torch.save(target_tensor, '../data/target.pt')"
   ]
  }
 ],
 "metadata": {
  "kernelspec": {
   "display_name": "Python 3.10.6 64-bit",
   "language": "python",
   "name": "python3"
  },
  "language_info": {
   "codemirror_mode": {
    "name": "ipython",
    "version": 3
   },
   "file_extension": ".py",
   "mimetype": "text/x-python",
   "name": "python",
   "nbconvert_exporter": "python",
   "pygments_lexer": "ipython3",
   "version": "3.10.6"
  },
  "orig_nbformat": 4,
  "vscode": {
   "interpreter": {
    "hash": "916dbcbb3f70747c44a77c7bcd40155683ae19c65e1c03b4aa3499c5328201f1"
   }
  }
 },
 "nbformat": 4,
 "nbformat_minor": 2
}
